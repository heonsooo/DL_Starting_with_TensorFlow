{
 "cells": [
  {
   "cell_type": "markdown",
   "metadata": {},
   "source": [
    "# Simple Linear Regression 를 TensorFlow 로 구현하기\n",
    "\n",
    "- 목표 : 선형회귀(Linear Regression)을 코드로 구현한다.   \n",
    "- 핵심 키워드 : 선형회귀, 가설, 비용함수\n",
    "- url : https://www.boostcourse.org/ai212/lecture/41844/\n"
   ]
  },
  {
   "cell_type": "code",
   "execution_count": 1,
   "metadata": {},
   "outputs": [
    {
     "name": "stdout",
     "output_type": "stream",
     "text": [
      "2.1.0\n"
     ]
    }
   ],
   "source": [
    "import tensorflow as tf\n",
    "import numpy as np\n",
    "\n",
    "print(tf.__version__)"
   ]
  },
  {
   "cell_type": "code",
   "execution_count": 2,
   "metadata": {},
   "outputs": [
    {
     "data": {
      "text/plain": [
       "<tf.Tensor: shape=(5,), dtype=float32, numpy=\n",
       "array([ 3.4     ,  6.3     ,  9.200001, 12.1     , 15.      ],\n",
       "      dtype=float32)>"
      ]
     },
     "execution_count": 2,
     "metadata": {},
     "output_type": "execute_result"
    }
   ],
   "source": [
    "# 입력값\n",
    "x_data =[1,2,3,4,5]\n",
    "# 실제값\n",
    "y_data =[1,2,3,4,5]\n",
    "\n",
    "W = tf.Variable(2.9)\n",
    "b = tf.Variable(0.5)\n",
    "\n",
    "# 예측\n",
    "hypothesis = W * x_data+b\n",
    "hypothesis"
   ]
  },
  {
   "cell_type": "code",
   "execution_count": 3,
   "metadata": {},
   "outputs": [
    {
     "data": {
      "text/plain": [
       "<tf.Tensor: shape=(), dtype=float32, numpy=45.660004>"
      ]
     },
     "execution_count": 3,
     "metadata": {},
     "output_type": "execute_result"
    }
   ],
   "source": [
    "# 에러(hypothesis - y_data) 제곱의 평균\n",
    "cost = tf.reduce_mean(tf.square(hypothesis - y_data))\n",
    "cost"
   ]
  },
  {
   "cell_type": "code",
   "execution_count": 4,
   "metadata": {},
   "outputs": [
    {
     "data": {
      "text/plain": [
       "<tf.Tensor: shape=(), dtype=float32, numpy=2.5>"
      ]
     },
     "execution_count": 4,
     "metadata": {},
     "output_type": "execute_result"
    }
   ],
   "source": [
    "# tf를 이용한 평균\n",
    "v = [1.,2.,3.,4.]\n",
    "tf.reduce_mean(v)"
   ]
  },
  {
   "cell_type": "code",
   "execution_count": 5,
   "metadata": {},
   "outputs": [
    {
     "data": {
      "text/plain": [
       "<tf.Tensor: shape=(), dtype=int32, numpy=9>"
      ]
     },
     "execution_count": 5,
     "metadata": {},
     "output_type": "execute_result"
    }
   ],
   "source": [
    "# tf를 이용한 제곱\n",
    "tf.square(3)"
   ]
  },
  {
   "cell_type": "markdown",
   "metadata": {},
   "source": [
    "## Gradient Descent \n",
    "- 경사하강법\n",
    "- minimize cost(W,b) :cost를 최소화 하는 방법"
   ]
  },
  {
   "cell_type": "code",
   "execution_count": 6,
   "metadata": {},
   "outputs": [
    {
     "data": {
      "text/plain": [
       "<tf.Variable 'UnreadVariable' shape=() dtype=float32, numpy=0.376>"
      ]
     },
     "execution_count": 6,
     "metadata": {},
     "output_type": "execute_result"
    }
   ],
   "source": [
    "# Learning rate initalize (초기 학습 비율) :  한번 경사하강의 크기 \n",
    "learning_rate = 0.01\n",
    "\n",
    "# Gradient desent 경사하강법\n",
    "with tf.GradientTape() as tape:\n",
    "    hypothesis = W* x_data + b \n",
    "    cost = tf.reduce_mean(tf.square(hypothesis- y_data))\n",
    "    \n",
    "W_grad , b_grad = tape.gradient(cost,[W,b])\n",
    "\n",
    "# A.assign_sub(B)  : A = A-B  or A -= B 함수\n",
    "W.assign_sub(learning_rate*W_grad)\n",
    "b.assign_sub(learning_rate*b_grad)\n"
   ]
  },
  {
   "cell_type": "code",
   "execution_count": 8,
   "metadata": {},
   "outputs": [
    {
     "data": {
      "text/plain": [
       "(0, 8)"
      ]
     },
     "execution_count": 8,
     "metadata": {},
     "output_type": "execute_result"
    },
    {
     "data": {
      "image/png": "[encoded data removed]",
      "text/plain": [
       "<Figure size 432x288 with 1 Axes>"
      ]
     },
     "metadata": {
      "needs_background": "light"
     },
     "output_type": "display_data"
    }
   ],
   "source": [
    "import matplotlib.pyplot as plt\n",
    "# 초기 예측\n",
    "plt.plot(x_data, hypothesis.numpy(), 'r-')\n",
    "plt.plot(x_data, y_data, 'o')\n",
    "plt.ylim(0, 8)"
   ]
  },
  {
   "cell_type": "markdown",
   "metadata": {},
   "source": [
    "---\n",
    "# Full Code "
   ]
  },
  {
   "cell_type": "code",
   "execution_count": 9,
   "metadata": {},
   "outputs": [
    {
     "name": "stdout",
     "output_type": "stream",
     "text": [
      "    0|     2.452|     0.376|| 45.660004\n",
      "   10|     1.104|  0.003398||  0.206336\n",
      "   20|     1.013|  -0.02091||  0.001026\n",
      "   30|     1.007|  -0.02184||  0.000093\n",
      "   40|     1.006|  -0.02123||  0.000083\n",
      "   50|     1.006|  -0.02053||  0.000077\n",
      "   60|     1.005|  -0.01984||  0.000072\n",
      "   70|     1.005|  -0.01918||  0.000067\n",
      "   80|     1.005|  -0.01854||  0.000063\n",
      "   90|     1.005|  -0.01793||  0.000059\n",
      "  100|     1.005|  -0.01733||  0.000055\n"
     ]
    }
   ],
   "source": [
    "import tensorflow as tf\n",
    "\n",
    "x_data =[1,2,3,4,5]\n",
    "y_data =[1,2,3,4,5]\n",
    "\n",
    "W = tf.Variable(2.9)\n",
    "b = tf.Variable(0.5)\n",
    "\n",
    "learning_rate = 0.01\n",
    "\n",
    "# Gradient desent 경사하강법\n",
    "for i in range(100+1):\n",
    "    with tf.GradientTape() as tape:\n",
    "        hypothesis = W* x_data + b \n",
    "        cost = tf.reduce_mean(tf.square(hypothesis- y_data))\n",
    "\n",
    "    W_grad , b_grad = tape.gradient(cost,[W,b])\n",
    "\n",
    "    W.assign_sub(learning_rate*W_grad)\n",
    "    b.assign_sub(learning_rate*b_grad)\n",
    "    if i % 10 ==0 :\n",
    "        print(\"{:5}|{:10.4}|{:10.4}||{:10.6f}\".format(i,W.numpy(),b.numpy(),cost))"
   ]
  },
  {
   "cell_type": "markdown",
   "metadata": {},
   "source": [
    "- i ｜ W ｜ b ｜ cost  \n",
    "- i가 증가할 수록 W 값은 1로 가까워지고, b 값이 줄어들며 cost값도 0으로 가까이 수렴하고 있는 것을 확인할 수 있다.\n",
    "- 이를 통해 오차 값이 줄어드는 것을 알 수 있다."
   ]
  },
  {
   "cell_type": "code",
   "execution_count": 10,
   "metadata": {},
   "outputs": [
    {
     "data": {
      "text/plain": [
       "(0, 8)"
      ]
     },
     "execution_count": 10,
     "metadata": {},
     "output_type": "execute_result"
    },
    {
     "data": {
      "image/png": "[encoded data removed]",
      "text/plain": [
       "<Figure size 432x288 with 1 Axes>"
      ]
     },
     "metadata": {
      "needs_background": "light"
     },
     "output_type": "display_data"
    }
   ],
   "source": [
    "\n",
    "plt.plot(x_data, y_data, 'o')\n",
    "plt.ylim(0, 8)\n",
    "plt.plot(x_data, hypothesis.numpy(), 'r-')\n",
    "plt.ylim(0, 8)"
   ]
  },
  {
   "cell_type": "code",
   "execution_count": 11,
   "metadata": {},
   "outputs": [
    {
     "name": "stdout",
     "output_type": "stream",
     "text": [
      "tf.Tensor(5.00667, shape=(), dtype=float32)\n",
      "tf.Tensor(2.4946702, shape=(), dtype=float32)\n"
     ]
    }
   ],
   "source": [
    "# 위에서 만든 모델을 통한 예측 \n",
    "print(W*5+b)\n",
    "print(W*2.5+b)"
   ]
  }
 ],
 "metadata": {
  "kernelspec": {
   "display_name": "Python 3",
   "language": "python",
   "name": "python3"
  },
  "language_info": {
   "codemirror_mode": {
    "name": "ipython",
    "version": 3
   },
   "file_extension": ".py",
   "mimetype": "text/x-python",
   "name": "python",
   "nbconvert_exporter": "python",
   "pygments_lexer": "ipython3",
   "version": "3.7.6"
  }
 },
 "nbformat": 4,
 "nbformat_minor": 4
}
